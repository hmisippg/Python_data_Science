{
 "cells": [
  {
   "cell_type": "code",
   "execution_count": 22,
   "metadata": {},
   "outputs": [
    {
     "name": "stdout",
     "output_type": "stream",
     "text": [
      "['sakura', 'naruto', 'kakashi']\n",
      "3\n",
      "['kakashi', 'naruto', 'sakura']\n"
     ]
    }
   ],
   "source": [
    "#list\n",
    "\n",
    "\n",
    "# simpan list\n",
    "tim7 = [\"sakura\", \"naruto\", \"sasuke\"]\n",
    "# index    0          1         2      \n",
    "tim7[2] = \"kakashi\"\n",
    "tim7 = tim7 + [\"shikamaru\"]\n",
    "del(tim7[3])\n",
    "print(tim7)\n",
    "print(len(tim7))\n",
    "print(sorted(tim7))"
   ]
  },
  {
   "cell_type": "code",
   "execution_count": 23,
   "metadata": {},
   "outputs": [
    {
     "name": "stdout",
     "output_type": "stream",
     "text": [
      "6\n"
     ]
    }
   ],
   "source": [
    "\n",
    "angka = [1,2,3]\n",
    "print(sum(angka))"
   ]
  },
  {
   "cell_type": "code",
   "execution_count": null,
   "metadata": {},
   "outputs": [],
   "source": []
  }
 ],
 "metadata": {
  "kernelspec": {
   "display_name": "Python 3.8.2 64-bit",
   "language": "python",
   "name": "python38264bit4d0bef46565b48e4b46537455e15a615"
  },
  "language_info": {
   "codemirror_mode": {
    "name": "ipython",
    "version": 3
   },
   "file_extension": ".py",
   "mimetype": "text/x-python",
   "name": "python",
   "nbconvert_exporter": "python",
   "pygments_lexer": "ipython3",
   "version": "3.8.2"
  }
 },
 "nbformat": 4,
 "nbformat_minor": 4
}
