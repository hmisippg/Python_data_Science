{
 "cells": [
  {
   "cell_type": "code",
   "execution_count": 8,
   "metadata": {},
   "outputs": [
    {
     "name": "stdout",
     "output_type": "stream",
     "text": [
      "penjumlahan: 15\n",
      "pengurangan: 5\n",
      "perkalian: 50\n",
      "pembagian: 2.0\n",
      "modulus: 0\n",
      "pangkat: 100000\n"
     ]
    }
   ],
   "source": [
    "# operator aritmatika\n",
    "\n",
    "a = 10\n",
    "b = 5\n",
    "\n",
    "# penjumlahan\n",
    "print(\"penjumlahan:\", a + b)\n",
    "\n",
    "# pengurangan\n",
    "print(\"pengurangan:\", a - b)\n",
    "\n",
    "# perkalian\n",
    "print(\"perkalian:\", a * b)\n",
    "\n",
    "# pembagian\n",
    "print(\"pembagian:\", a / b)\n",
    "\n",
    "# modulus/sisa bagi\n",
    "print(\"modulus:\", a % b)\n",
    "\n",
    "# pangkat\n",
    "print(\"pangkat:\", a ** b)"
   ]
  },
  {
   "cell_type": "code",
   "execution_count": 10,
   "metadata": {},
   "outputs": [
    {
     "name": "stdout",
     "output_type": "stream",
     "text": [
      "1.0\n"
     ]
    }
   ],
   "source": [
    "# operator penugasan\n",
    "\n",
    "c = 10\n",
    "c /= 10\n",
    "\n",
    "print(c)\n"
   ]
  },
  {
   "cell_type": "code",
   "execution_count": 14,
   "metadata": {},
   "outputs": [
    {
     "name": "stdout",
     "output_type": "stream",
     "text": [
      "False\n"
     ]
    }
   ],
   "source": [
    "# operator relasi\n",
    "\n",
    "d = 10\n",
    "e = 20\n",
    "\n",
    "# < > == != >= <=\n",
    "print(d == e)"
   ]
  },
  {
   "cell_type": "code",
   "execution_count": 19,
   "metadata": {},
   "outputs": [
    {
     "name": "stdout",
     "output_type": "stream",
     "text": [
      "False\n"
     ]
    }
   ],
   "source": [
    "# operator logika\n",
    "\n",
    "# and or not\n",
    "f = 3\n",
    "g = 4\n",
    "\n",
    "h = not f\n",
    "\n",
    "print(h)"
   ]
  },
  {
   "cell_type": "code",
   "execution_count": 20,
   "metadata": {},
   "outputs": [
    {
     "name": "stdout",
     "output_type": "stream",
     "text": [
      "0\n"
     ]
    }
   ],
   "source": [
    "i = 1\n",
    "j = 2\n",
    "k = i & j\n",
    "print(k)"
   ]
  },
  {
   "cell_type": "code",
   "execution_count": 24,
   "metadata": {},
   "outputs": [
    {
     "name": "stdout",
     "output_type": "stream",
     "text": [
      "False\n"
     ]
    }
   ],
   "source": [
    "#operator ternary\n",
    "umur = 22\n",
    "\n",
    "aku = (umur < 10) if \"Bocah\" else \"one-chan\"\n",
    "print(aku)"
   ]
  },
  {
   "cell_type": "code",
   "execution_count": null,
   "metadata": {},
   "outputs": [],
   "source": []
  }
 ],
 "metadata": {
  "kernelspec": {
   "display_name": "Python 3.8.2 64-bit",
   "language": "python",
   "name": "python38264bit4d0bef46565b48e4b46537455e15a615"
  },
  "language_info": {
   "codemirror_mode": {
    "name": "ipython",
    "version": 3
   },
   "file_extension": ".py",
   "mimetype": "text/x-python",
   "name": "python",
   "nbconvert_exporter": "python",
   "pygments_lexer": "ipython3",
   "version": "3.8.2"
  }
 },
 "nbformat": 4,
 "nbformat_minor": 4
}
